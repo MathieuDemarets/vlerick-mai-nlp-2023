{
 "cells": [
  {
   "cell_type": "markdown",
   "metadata": {},
   "source": [
    "# Knowledge Base | Articles search"
   ]
  },
  {
   "cell_type": "markdown",
   "metadata": {},
   "source": [
    "## Need for a knowledge base\n",
    "\n",
    "At the origin of this project is my experience of two very different type of consulting firms. In 2021, I spent 4 months as a visiting associate at the [Boston Consulting Club](https://www.bcg.com/belgium). With little technical background, I was wuickly able to deliver complex pricing analysis, industry benchmarking and positioning studies. The reason for this is that BCG had an extensive and well structured knowledge base (slides, articles, and market research). I was able to find the right information in a matter of minutes.\n",
    "\n",
    "A year later, I joined a small consulting called [Reacfin](https://www.reacfin.com/) specialized in actuarial sciences and risk management. There knowledge was not articulated in a structured way. Luckily my colleagues were highly knowledgeable and took the time to bring me up to speed. However, I could not help but think that the firm was missing out on a lot of potential by not having a knowledge base.\n",
    "\n",
    "I pursued my research on the topic and found out that the knowledge base is a key factor of success for consulting firms. However, accumulating knowledge is not enough. The knowledge base must be structured and easily accessible.\n",
    "\n",
    "*Supporting articles on the problematic:*\n",
    "\n",
    "- [Dunford, R. (2000), \"Key challenges in the search for the effective management of knowledge in management consulting firms\", Journal of Knowledge Management, Vol. 4 No. 4, pp. 295-302.](https://doi.org/10.1108/13673270010379849)\n",
    "- [Werr, A., & Stjernberg, T. (2003). Exploring Management Consulting Firms as Knowledge Systems. Organization Studies, 24(6), 881-908.](https://doi.org/10.1177/0170840603024006004)\n",
    "- [Sarvary, M. (1999). Knowledge Management and Competition in the Consulting Industry. California Management Review, 41(2), 95-107.](https://doi.org/10.2307/41165988)\n",
    "\n",
    "\n",
    "## Project overview\n",
    "\n",
    "Until now I had not found a satisfactory way to navigate existing documentation. For example, a keywords search would require a standardisation of the vocabulary across the firm, which is time consuming, arbitrary, and not flexible. However, we discovered the concept of [semantic search](https://www.sbert.net/examples/applications/semantic-search/README.html) which is a search technique that takes into account the meaning and context of words. This is exactly what we need to navigate our knowledge base intuitively.\n",
    "\n",
    "This first notebook will focus on the implementation of a semantic search engine for scientific articles. This is a proof of concept for a larger project including notebooks and functions to support the technical profiles at Reacfin. Here are the different steps of the notebook:\n",
    "1. [Abstract search](#1.-Abstract-search): we will extract the abstracts of our knowledge base, then tokenize and vectorize them. We will then use the vectorized abstracts to find the most similar abstracts to a given query.\n",
    "2. [Full text retrieval](#2.-Full-text-retrieval): we will use the result of the abstracts search as index to retrieve the full text of the most relevant articles.\n",
    "3. [Knowledge space](#3.-Knowledge-space): we will use the abstracts embeddings to identify clusters of articles and visualize them in a 2D space. This will help us understand the structure of our knowledge base and navigate it intuitively.\n",
    "4. [Full text search](#4.-Full-text-search): we will use the full text of the articles to find the most relevant chunks of text to a given query. This will allow us to find detailed information on a specific topic. This can also be used as the first step for a RAG chatbot.\n",
    "\n",
    "\n",
    "\n",
    "---\n",
    "---\n",
    "*This is the first notebook of a series of 4. The other notebooks are:*\n",
    "- *`Knowledge Base | Notebooks search`: Identify relevant notebooks based on Markdown cells*\n",
    "- *`Knowledge Base | Functions search`: Identify relevant functions based on Docstrings*\n",
    "- *`Knowledge Base | RAG chatbot`: Augment an open-source LLM with the knowledge retrieved*\n"
   ]
  },
  {
   "cell_type": "markdown",
   "metadata": {},
   "source": [
    "# 1. Abstract search\n",
    "*back to [Project Overview](#project-overview)*\n"
   ]
  },
  {
   "cell_type": "markdown",
   "metadata": {},
   "source": [
    "First, we'll need to create our knowledge base. `Reacfin` shared a repository of about 40 articles. For the preprocessing, we will:\n",
    "- Extract all articles from the ZIP file and keep the PDFs of a certain size only\n",
    "- Extract the abstracts from the articles using the `pdfminer` library\n",
    "- Make a match between the abstracts, the articles, and the test queries to set up a validation framework\n",
    "- Tokenize the abstracts\n",
    "- Vectorize the abstracts\n",
    "- Use the vectorized abstracts to find the most similar abstracts to a given query"
   ]
  },
  {
   "cell_type": "code",
   "execution_count": null,
   "metadata": {},
   "outputs": [],
   "source": [
    "# Google Colab\n",
    "# from google.colab import drive\n",
    "# drive.mount('/content/drive')"
   ]
  },
  {
   "cell_type": "markdown",
   "metadata": {},
   "source": [
    "## 1.1. Extract articles from ZIP file\n",
    "\n",
    "We will use the `zipfile` library to extract the articles from the ZIP file and the `os` and `shutil` libraries to move the PDFs to the original directory and delete the temporary directory. Then, we will use the `PyMuPDF` (imported as `fitz`) library to filter out the PDFs that are too large for our proof of concept (it prevents having too many chunks of the same pdf in our vectorspace in the upcoming [Full text search](#4.-Full-text-search)). We will keep the PDFs that are less than 30 pages long."
   ]
  },
  {
   "cell_type": "code",
   "execution_count": 11,
   "metadata": {},
   "outputs": [],
   "source": [
    "from zipfile import ZipFile\n",
    "import os\n",
    "import shutil\n",
    "import numpy as np\n",
    "import pandas as pd\n",
    "import matplotlib.pyplot as plt\n",
    "import seaborn as sns\n",
    "import fitz"
   ]
  },
  {
   "cell_type": "code",
   "execution_count": 12,
   "metadata": {},
   "outputs": [],
   "source": [
    "def extract_zip(from_dir, to_dir, folder_name='Academic', verbose=True):\n",
    "    \"\"\"Extract the files from the zip files (can be multiple) and move them to the chosen folder\n",
    "\n",
    "    Parameters\n",
    "    ----------\n",
    "    from_dir : str\n",
    "        Directory where the zip files are located\n",
    "    to_dir : str\n",
    "        Directory where the labels will be extracted\n",
    "    verbose : bool, optional\n",
    "        Print the details of the execution, by default True\n",
    "\n",
    "    Returns\n",
    "    -------\n",
    "    None\n",
    "        The labels are extracted and moved to the chosen folder\n",
    "    \"\"\"\n",
    "    all_files = [file for file in os.listdir(from_dir) if \".zip\" in file]\n",
    "    i = 0\n",
    "    for file in all_files:\n",
    "        if verbose:\n",
    "            print(f\"Extracting: {file}\")\n",
    "        with ZipFile(from_dir+\"/\"+file, \"r\") as zipObj:\n",
    "            # Keep only the pdf files to extract\n",
    "            all_objects = zipObj.namelist()\n",
    "            all_objects = [x for x in all_objects if x.endswith(\".pdf\")]\n",
    "            # Extract all the chosen files\n",
    "            for object in all_objects:\n",
    "                zipObj.extract(object, to_dir)\n",
    "        i += 1\n",
    "    if verbose:\n",
    "        print(f\"{i} files extracted\")\n",
    "\n",
    "    # Delete zip files\n",
    "    for file in all_files:\n",
    "        os.remove(from_dir+\"/\"+file)\n",
    "\n",
    "    # Move all labels to the root folder\n",
    "    for file in os.listdir(to_dir+f\"/{folder_name}\"):\n",
    "        shutil.move(os.path.join(to_dir+f\"/{folder_name}\", file), to_dir)\n",
    "\n",
    "    # Delete empty folder\n",
    "    os.rmdir(to_dir+f\"/{folder_name}\")\n",
    "    if verbose:\n",
    "        print(\"Repository cleaned\")"
   ]
  },
  {
   "cell_type": "code",
   "execution_count": 9,
   "metadata": {},
   "outputs": [
    {
     "name": "stdout",
     "output_type": "stream",
     "text": [
      "Extracting: articles.zip\n",
      "1 files extracted\n",
      "Repository cleaned\n"
     ]
    }
   ],
   "source": [
    "extract_zip(\n",
    "    from_dir = 'kb_articles',\n",
    "    to_dir='kb_articles', # same directory\n",
    "    folder_name='Academic', # folder name where the labels are extracted\n",
    "    verbose=True)"
   ]
  },
  {
   "cell_type": "markdown",
   "metadata": {},
   "source": [
    "We will now make a first structure of our knowledge base with the title, page count, abstracts (empty for now), and the path to the PDFs. We see that the `doc.metadata` method of the `fitz` library allows us to extract a lot of information but for a few articles only so we will fetch the information manually instead."
   ]
  },
  {
   "cell_type": "code",
   "execution_count": 33,
   "metadata": {},
   "outputs": [],
   "source": [
    "pd.set_option('display.max_columns', None)\n",
    "kb_articles = pd.DataFrame(columns=['title', 'pages', 'abstract', 'path'])\n",
    "\n",
    "\n",
    "def structure_kb(kb_dir, index, verbose=True):\n",
    "    \"\"\"Structure the knowledge base into a dataframe with the following columns: title, pages, abstract, path\n",
    "\n",
    "    Parameters\n",
    "    ----------\n",
    "    kb_dir : str\n",
    "        Directory where the knowledge base is located\n",
    "    index : pd.core.frame.DataFrame or str\n",
    "        Path to the dataframe or the dataframe itself\n",
    "    verbose : bool, optional\n",
    "        Print the details of the execution, by default True\n",
    "\n",
    "    Returns\n",
    "    -------\n",
    "    pd.core.frame.DataFrame\n",
    "        Dataframe with the knowledge base\n",
    "    \"\"\"\n",
    "    if type(index) != pd.core.frame.DataFrame:\n",
    "        try:\n",
    "            index = pd.read_excel(index)\n",
    "        except:\n",
    "            index = pd.read_csv(index)\n",
    "    # Crawl the knowledge base and extract the metadata\n",
    "    for file in os.listdir(kb_dir):\n",
    "        if file.endswith(\".pdf\"):\n",
    "            path = os.path.join(kb_dir, file)\n",
    "            doc = fitz.open(path)\n",
    "            # Append the metadata to the dataframe\n",
    "            if path not in index.path.values:\n",
    "                index.loc[len(index)] = [file.removesuffix('.pdf'), len(doc), None, path]\n",
    "                if verbose:\n",
    "                    print(f\"Title: {file.removesuffix('.pdf')}\")\n",
    "                    print(f\"Pages: {len(doc)}\")\n",
    "                    print(f\"Path: {path}\")\n",
    "    return index"
   ]
  },
  {
   "cell_type": "code",
   "execution_count": 45,
   "metadata": {},
   "outputs": [
    {
     "data": {
      "image/png": "[encoded data removed]",
      "text/plain": [
       "<Figure size 1000x500 with 1 Axes>"
      ]
     },
     "metadata": {},
     "output_type": "display_data"
    },
    {
     "name": "stdout",
     "output_type": "stream",
     "text": [
      "Proportion of articles with more than 30 pages: 14.63%\n",
      "35 articles indexed in the knowledge base\n"
     ]
    }
   ],
   "source": [
    "kb_articles = structure_kb(\"kb_articles\", kb_articles, verbose=True)\n",
    "plt.figure(figsize=(10, 5))\n",
    "sns.histplot(kb_articles.pages)\n",
    "plt.title(\"Distribution of the number of pages\")\n",
    "plt.show()\n",
    "# It seems that the majority of the articles have less than 30 pages which should be a good cut-off point\n",
    "print(f\"Proportion of articles with more than 30 pages: {len(kb_articles[kb_articles.pages > 30])/len(kb_articles):.2%}\")\n",
    "\n",
    "# Remove articles with more than 30 pages\n",
    "kb_articles_poc = kb_articles[kb_articles.pages <= 30]\n",
    "kb_articles_poc.reset_index(inplace=True, drop=True)\n",
    "kb_articles_poc.to_excel(\"kb_articles/AAA_index.xlsx\", index=False)\n",
    "print(f\"{len(kb_articles_poc)} articles indexed in the knowledge base\")"
   ]
  },
  {
   "cell_type": "markdown",
   "metadata": {},
   "source": [
    "# 2. Full text retrieval\n",
    "*back to [Project Overview](#project-overview)*"
   ]
  },
  {
   "cell_type": "code",
   "execution_count": null,
   "metadata": {},
   "outputs": [],
   "source": []
  },
  {
   "cell_type": "markdown",
   "metadata": {},
   "source": [
    "# 3. Knowledge space\n",
    "*back to [Project Overview](#project-overview)*"
   ]
  },
  {
   "cell_type": "code",
   "execution_count": null,
   "metadata": {},
   "outputs": [],
   "source": []
  },
  {
   "cell_type": "markdown",
   "metadata": {},
   "source": [
    "# 4. Full text search\n",
    "*back to [Project Overview](#project-overview)*"
   ]
  },
  {
   "cell_type": "code",
   "execution_count": null,
   "metadata": {},
   "outputs": [],
   "source": []
  },
  {
   "cell_type": "markdown",
   "metadata": {},
   "source": [
    "Thank you for reading this notebook. I hope you enjoyed it and that it gave you some insights into the potential of semantic search for knowledge management.\n",
    "\n",
    "---\n",
    "Mathieu Demarets (mathieu.demarets@edu.vlerick.com)"
   ]
  }
 ],
 "metadata": {
  "kernelspec": {
   "display_name": ".env",
   "language": "python",
   "name": "python3"
  },
  "language_info": {
   "codemirror_mode": {
    "name": "ipython",
    "version": 3
   },
   "file_extension": ".py",
   "mimetype": "text/x-python",
   "name": "python",
   "nbconvert_exporter": "python",
   "pygments_lexer": "ipython3",
   "version": "3.11.7"
  }
 },
 "nbformat": 4,
 "nbformat_minor": 2
}
