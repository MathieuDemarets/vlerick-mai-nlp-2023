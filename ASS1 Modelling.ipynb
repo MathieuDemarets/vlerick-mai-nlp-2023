{
 "cells": [
  {
   "cell_type": "markdown",
   "metadata": {},
   "source": [
    "# Assignment 1 - Action Score Modelling"
   ]
  },
  {
   "cell_type": "markdown",
   "metadata": {},
   "source": [
    "Now that we have explored (and compared with other datasets) the textual data for the DAX companies, we want to use the textual information in order to predict the mean action score for each document. We will classif the action score in three classes to simplify the interpretation:\n",
    "1. `low`: below 0.1 which represents about 50% of the dataset\n",
    "2. `medium`: between 0.1 and 0.9 which represents about 30% of the dataset\n",
    "3. `high`: above 0.9 which represents the remaining 20%.\n",
    "The reason for this choice was the distribution of the scores in our dataset that made these cut-offs quite natural (cf. histogram and cumulative distribution).\n",
    "\n",
    "To predict these three classes we will use the documents' embeddings:\n",
    "- `Bag of Words`: embedding based on the frequency of the tokens in the document\n",
    "- `TF-IDF`: embedding based on the frequency of the tokens in the document and the frequency of the tokens in the corpus\n",
    "- `Word2Vec`: embedding based on a pretrained word2vec model to summarise the meaning of the document\n",
    "For each of these embeddings, we will cross-validate (strategy: stratified 3-fold) the following classifiers:\n",
    "- `Logistic Regression` as a baseline\n",
    "- `Decision Tree` to explore non-linear relationships\n",
    "- `Random Forest` to explore non-linear relationships and get more robust results\n",
    "\n",
    "To do so, we developed a set of functions to be used in the following pipeline:\n",
    "1. `Data preparation`: we stack the embeddings and retrieve the action scores (X and y)\n",
    "2. `Model evaluation`: we cross-validate the models and fetch the results (accuracy, precision, recall, f1-score)\n",
    "3. `Logs`: we save the results in an excel file with a name and a timestamp to keep track of the different runs\n",
    "\n",
    "---\n",
    "---\n",
    "\n",
    "*To improve on this notebook, we could try to expend the BOW and TD-IDF vocabulary sizes and add a neural network to the classifiers. We could also try other Word2Vec embeddings or tokenizers. Finally we could also use and fine-tune a transformer to be able to capture context (attention) and order (positioning) in our initial text.*"
   ]
  },
  {
   "cell_type": "markdown",
   "metadata": {},
   "source": [
    "## 1. Data preparation\n",
    "\n",
    "We will load the pickles containing the tokens and embeddings for each document that we created in the previous notebook. We will then split the target variable (mean action score) into three classes based on the distribution."
   ]
  },
  {
   "cell_type": "code",
   "execution_count": 1,
   "metadata": {},
   "outputs": [
    {
     "name": "stderr",
     "output_type": "stream",
     "text": [
      "c:\\Users\\User\\Documents\\VLERICK\\NLP\\vlerick-mai-nlp-2023\\.env\\Lib\\site-packages\\tqdm\\auto.py:21: TqdmWarning: IProgress not found. Please update jupyter and ipywidgets. See https://ipywidgets.readthedocs.io/en/stable/user_install.html\n",
      "  from .autonotebook import tqdm as notebook_tqdm\n"
     ]
    },
    {
     "data": {
      "text/html": [
       "<div>\n",
       "<style scoped>\n",
       "    .dataframe tbody tr th:only-of-type {\n",
       "        vertical-align: middle;\n",
       "    }\n",
       "\n",
       "    .dataframe tbody tr th {\n",
       "        vertical-align: top;\n",
       "    }\n",
       "\n",
       "    .dataframe thead th {\n",
       "        text-align: right;\n",
       "    }\n",
       "</style>\n",
       "<table border=\"1\" class=\"dataframe\">\n",
       "  <thead>\n",
       "    <tr style=\"text-align: right;\">\n",
       "      <th></th>\n",
       "      <th>company</th>\n",
       "      <th>content</th>\n",
       "      <th>datatype</th>\n",
       "      <th>date</th>\n",
       "      <th>domain</th>\n",
       "      <th>esg_topics</th>\n",
       "      <th>internal</th>\n",
       "      <th>symbol</th>\n",
       "      <th>title</th>\n",
       "      <th>url</th>\n",
       "      <th>mean_action_score</th>\n",
       "      <th>n_chunks</th>\n",
       "      <th>n_estimated_actions</th>\n",
       "      <th>size_char</th>\n",
       "      <th>tokens</th>\n",
       "      <th>embedding</th>\n",
       "    </tr>\n",
       "  </thead>\n",
       "  <tbody>\n",
       "    <tr>\n",
       "      <th>0</th>\n",
       "      <td>Beiersdorf AG</td>\n",
       "      <td>Sustainability Highlight Report CARE BEYOND SK...</td>\n",
       "      <td>sustainability_report</td>\n",
       "      <td>2021-03-31</td>\n",
       "      <td>NaN</td>\n",
       "      <td>['CleanWater', 'GHGEmission', 'ProductLiabilit...</td>\n",
       "      <td>1</td>\n",
       "      <td>BEI</td>\n",
       "      <td>BeiersdorfAG Sustainability Report 2021</td>\n",
       "      <td>NaN</td>\n",
       "      <td>0.883412</td>\n",
       "      <td>25.0</td>\n",
       "      <td>22.0</td>\n",
       "      <td>56786</td>\n",
       "      <td>[sustainability, highlight, report, care, skin...</td>\n",
       "      <td>[-0.30426386, 0.5005032, 0.44396603, 0.0309295...</td>\n",
       "    </tr>\n",
       "    <tr>\n",
       "      <th>1</th>\n",
       "      <td>Deutsche Telekom AG</td>\n",
       "      <td>Corporate Responsibility Report 2021 2 Content...</td>\n",
       "      <td>sustainability_report</td>\n",
       "      <td>2021-03-31</td>\n",
       "      <td>NaN</td>\n",
       "      <td>['DataSecurity', 'Iso50001', 'GlobalWarming', ...</td>\n",
       "      <td>1</td>\n",
       "      <td>DTE</td>\n",
       "      <td>DeutscheTelekomAG Sustainability Report 2021</td>\n",
       "      <td>NaN</td>\n",
       "      <td>0.663768</td>\n",
       "      <td>263.0</td>\n",
       "      <td>173.0</td>\n",
       "      <td>619607</td>\n",
       "      <td>[corporate, responsibility, report, 2021, 2, c...</td>\n",
       "      <td>[-0.355663, 0.29826087, 0.4589993, -0.21578589...</td>\n",
       "    </tr>\n",
       "    <tr>\n",
       "      <th>2</th>\n",
       "      <td>Vonovia SE</td>\n",
       "      <td>VONOVIA SE SUSTAINABILITY REPORT 2021 =For a S...</td>\n",
       "      <td>sustainability_report</td>\n",
       "      <td>2021-03-31</td>\n",
       "      <td>NaN</td>\n",
       "      <td>['Whistleblowing', 'DataSecurity', 'Vaccine', ...</td>\n",
       "      <td>1</td>\n",
       "      <td>VNA</td>\n",
       "      <td>VonoviaSE Sustainability Report 2021</td>\n",
       "      <td>NaN</td>\n",
       "      <td>0.429047</td>\n",
       "      <td>193.0</td>\n",
       "      <td>79.0</td>\n",
       "      <td>444517</td>\n",
       "      <td>[se, sustainability, report, 2021, sustainable...</td>\n",
       "      <td>[-0.16401269, 0.27424163, 0.2612646, -0.127146...</td>\n",
       "    </tr>\n",
       "    <tr>\n",
       "      <th>3</th>\n",
       "      <td>Merck KGaA</td>\n",
       "      <td>Sustainability Report 2021 TABLE OF CONTENTS S...</td>\n",
       "      <td>sustainability_report</td>\n",
       "      <td>2021-03-31</td>\n",
       "      <td>NaN</td>\n",
       "      <td>['DataSecurity', 'DataMisuse', 'DrugResistance...</td>\n",
       "      <td>1</td>\n",
       "      <td>MRK</td>\n",
       "      <td>MerckKGaA Sustainability Report 2021</td>\n",
       "      <td>NaN</td>\n",
       "      <td>0.679299</td>\n",
       "      <td>210.0</td>\n",
       "      <td>142.0</td>\n",
       "      <td>543061</td>\n",
       "      <td>[sustainability, report, 2021, table, content,...</td>\n",
       "      <td>[-0.17004943, 0.053052265, 0.28615195, -0.2306...</td>\n",
       "    </tr>\n",
       "    <tr>\n",
       "      <th>4</th>\n",
       "      <td>MTU</td>\n",
       "      <td>Our ideas and concepts FOR A SUSTAINABLE FUTUR...</td>\n",
       "      <td>sustainability_report</td>\n",
       "      <td>2020-03-31</td>\n",
       "      <td>NaN</td>\n",
       "      <td>['WorkLifeBalance', 'Corruption', 'AirQuality'...</td>\n",
       "      <td>1</td>\n",
       "      <td>MTX</td>\n",
       "      <td>MTUAeroEngines Sustainability Report 2020</td>\n",
       "      <td>NaN</td>\n",
       "      <td>0.682892</td>\n",
       "      <td>102.0</td>\n",
       "      <td>68.0</td>\n",
       "      <td>256566</td>\n",
       "      <td>[idea, concept, sustainable, future, idea, con...</td>\n",
       "      <td>[-0.22982949, 0.39467514, 0.258867, -0.1323035...</td>\n",
       "    </tr>\n",
       "  </tbody>\n",
       "</table>\n",
       "</div>"
      ],
      "text/plain": [
       "               company                                            content  \\\n",
       "0        Beiersdorf AG  Sustainability Highlight Report CARE BEYOND SK...   \n",
       "1  Deutsche Telekom AG  Corporate Responsibility Report 2021 2 Content...   \n",
       "2           Vonovia SE  VONOVIA SE SUSTAINABILITY REPORT 2021 =For a S...   \n",
       "3           Merck KGaA  Sustainability Report 2021 TABLE OF CONTENTS S...   \n",
       "4                  MTU  Our ideas and concepts FOR A SUSTAINABLE FUTUR...   \n",
       "\n",
       "                datatype        date domain  \\\n",
       "0  sustainability_report  2021-03-31    NaN   \n",
       "1  sustainability_report  2021-03-31    NaN   \n",
       "2  sustainability_report  2021-03-31    NaN   \n",
       "3  sustainability_report  2021-03-31    NaN   \n",
       "4  sustainability_report  2020-03-31    NaN   \n",
       "\n",
       "                                          esg_topics  internal symbol  \\\n",
       "0  ['CleanWater', 'GHGEmission', 'ProductLiabilit...         1    BEI   \n",
       "1  ['DataSecurity', 'Iso50001', 'GlobalWarming', ...         1    DTE   \n",
       "2  ['Whistleblowing', 'DataSecurity', 'Vaccine', ...         1    VNA   \n",
       "3  ['DataSecurity', 'DataMisuse', 'DrugResistance...         1    MRK   \n",
       "4  ['WorkLifeBalance', 'Corruption', 'AirQuality'...         1    MTX   \n",
       "\n",
       "                                          title  url  mean_action_score  \\\n",
       "0       BeiersdorfAG Sustainability Report 2021  NaN           0.883412   \n",
       "1  DeutscheTelekomAG Sustainability Report 2021  NaN           0.663768   \n",
       "2          VonoviaSE Sustainability Report 2021  NaN           0.429047   \n",
       "3          MerckKGaA Sustainability Report 2021  NaN           0.679299   \n",
       "4     MTUAeroEngines Sustainability Report 2020  NaN           0.682892   \n",
       "\n",
       "   n_chunks  n_estimated_actions  size_char  \\\n",
       "0      25.0                 22.0      56786   \n",
       "1     263.0                173.0     619607   \n",
       "2     193.0                 79.0     444517   \n",
       "3     210.0                142.0     543061   \n",
       "4     102.0                 68.0     256566   \n",
       "\n",
       "                                              tokens  \\\n",
       "0  [sustainability, highlight, report, care, skin...   \n",
       "1  [corporate, responsibility, report, 2021, 2, c...   \n",
       "2  [se, sustainability, report, 2021, sustainable...   \n",
       "3  [sustainability, report, 2021, table, content,...   \n",
       "4  [idea, concept, sustainable, future, idea, con...   \n",
       "\n",
       "                                           embedding  \n",
       "0  [-0.30426386, 0.5005032, 0.44396603, 0.0309295...  \n",
       "1  [-0.355663, 0.29826087, 0.4589993, -0.21578589...  \n",
       "2  [-0.16401269, 0.27424163, 0.2612646, -0.127146...  \n",
       "3  [-0.17004943, 0.053052265, 0.28615195, -0.2306...  \n",
       "4  [-0.22982949, 0.39467514, 0.258867, -0.1323035...  "
      ]
     },
     "execution_count": 1,
     "metadata": {},
     "output_type": "execute_result"
    }
   ],
   "source": [
    "import pandas as pd\n",
    "from collections import Counter\n",
    "import tqdm\n",
    "tqdm.tqdm.pandas()\n",
    "import matplotlib.pyplot as plt\n",
    "import numpy as np\n",
    "import torch\n",
    "from sentence_transformers import SentenceTransformer, util\n",
    "\n",
    "# Google Colab\n",
    "# from google.colab import drive\n",
    "# drive.mount('/content/drive')\n",
    "# df = pd.read_pickle(\"https://media.githubusercontent.com/media/MathieuDemarets/vlerick-mai-nlp-2023/Local/DATA/esg_documents_for_dax_companies_score_tok_emb.pkl\")\n",
    "df = pd.read_pickle(\"DATA/esg_documents_for_dax_companies_score_tok_emb.pkl\")\n",
    "\n",
    "df.head()"
   ]
  },
  {
   "cell_type": "code",
   "execution_count": 2,
   "metadata": {},
   "outputs": [
    {
     "data": {
      "image/png": "[encoded data removed]",
      "text/plain": [
       "<Figure size 640x480 with 1 Axes>"
      ]
     },
     "metadata": {},
     "output_type": "display_data"
    },
    {
     "data": {
      "image/png": "[encoded data removed]",
      "text/plain": [
       "<Figure size 640x480 with 1 Axes>"
      ]
     },
     "metadata": {},
     "output_type": "display_data"
    }
   ],
   "source": [
    "# Histogram\n",
    "plt.hist(df['mean_action_score'], bins=10)\n",
    "plt.title(\"Histogram of documents per action score\")\n",
    "plt.show()\n",
    "\n",
    "# Cumulative distribution\n",
    "x = list(range(0,101,10))\n",
    "y = [sum(df[\"mean_action_score\"]<=(threshold/100))/df.shape[0] for threshold in x]\n",
    "plt.plot(x,y,\"o--\")\n",
    "plt.vlines([10,90], 0, [sum(df[\"mean_action_score\"]<=(threshold/100))/df.shape[0] for threshold in [10,90]], color='black')\n",
    "plt.hlines([sum(df[\"mean_action_score\"]<=(threshold/100))/df.shape[0] for threshold in [10,90]], 0, [10,90], color=\"black\")\n",
    "plt.title(\"Cumulative distribution of documents per action score\")\n",
    "plt.xticks(list(range(0,101,10)))\n",
    "plt.xlabel(\"Action score out of 100\")\n",
    "plt.yticks([i/100 for i in list(range(0,101,10))])\n",
    "plt.ylabel(\"Cumulative distribution\")\n",
    "plt.show()"
   ]
  },
  {
   "cell_type": "code",
   "execution_count": 3,
   "metadata": {},
   "outputs": [
    {
     "name": "stderr",
     "output_type": "stream",
     "text": [
      "100%|██████████| 11531/11531 [00:00<00:00, 1050945.66it/s]\n"
     ]
    }
   ],
   "source": [
    "def categorize_action(df, from_col, to_col):\n",
    "    cat = lambda x: \"low\" if x < 0.1 else \"medium\" if x < 0.9 else \"high\"\n",
    "    df[to_col] = df[from_col].progress_apply(cat)\n",
    "\n",
    "categorize_action(df,\"mean_action_score\",\"action_category\")"
   ]
  },
  {
   "cell_type": "code",
   "execution_count": 4,
   "metadata": {},
   "outputs": [
    {
     "name": "stdout",
     "output_type": "stream",
     "text": [
      "action_category\n",
      "low       5728\n",
      "medium    3630\n",
      "high      2173\n",
      "Name: count, dtype: int64\n",
      "action_category\n",
      "low       49.67\n",
      "medium    31.48\n",
      "high      18.84\n",
      "Name: proportion, dtype: float64\n"
     ]
    }
   ],
   "source": [
    "# We get relatively balanced classes (low: 50%, medium: 30%, high: 20%)\n",
    "print(df.action_category.value_counts())\n",
    "print(round(df.action_category.value_counts(normalize=True)*100,2))"
   ]
  },
  {
   "cell_type": "markdown",
   "metadata": {},
   "source": [
    "## 2. Bag of Words (BoW)\n",
    "\n",
    "This first approach to text embedding aims to classify the action category based on the frequency of words in the document. We will:\n",
    "- Use a `Counter` to count the number of occurences of each word in the corpus\n",
    "- Define a `Vocabulary` based on the most frequent words\n",
    "- Define a `Bag of Words` representation for each document\n",
    "- Train our `classifiers` on the Bag of Words representation"
   ]
  },
  {
   "cell_type": "markdown",
   "metadata": {},
   "source": [
    "### 2.1. Data preparation"
   ]
  },
  {
   "cell_type": "code",
   "execution_count": 5,
   "metadata": {},
   "outputs": [],
   "source": [
    "def vocabBOW(df, vocab_size=1000, verbose=False):\n",
    "    \"\"\"Creates a vocabulary of the most common words in the corpus and maps each word to an integer\n",
    "\n",
    "    Parameters\n",
    "    ----------\n",
    "    df : DataFrame\n",
    "        Corpus of documents\n",
    "    vocab_size : int, optional\n",
    "        Size of the vocabulary, by default 1000\n",
    "    verbose : bool, optional\n",
    "        Display details, by default False\n",
    "\n",
    "    Returns\n",
    "    -------\n",
    "    tokenMap : dict\n",
    "        Word to integer mapping\n",
    "    tokenMapInverse : dict\n",
    "        Integer to word mapping\n",
    "    tokenFreq : Counter\n",
    "        Word frequencies\n",
    "    \"\"\"\n",
    "    tokenFreq = Counter()\n",
    "    df['tokens'].progress_apply(lambda x: tokenFreq.update(x))\n",
    "\n",
    "    if verbose:\n",
    "        print(f\"Total number of words: {sum(tokenFreq.values())}\")\n",
    "        print(f\"Number of unique words: {len(tokenFreq)}\")\n",
    "        print(f\"Most common words: {tokenFreq.most_common(5)}\")\n",
    "        print(f\"Least common words: {tokenFreq.most_common()[:-5:-1]}\")\n",
    "    \n",
    "    tokenMap = {k: i+1 for i, (k, _) in enumerate(tokenFreq.most_common(vocab_size-1))} # -1 to account for the <oov> token\n",
    "    tokenMap[\"<oov>\"]=0 # Out of vocabulary token to account for words not in the vocabulary\n",
    "    tokenMapInverse = {v: k for k,v in tokenMap.items()}\n",
    "\n",
    "    return tokenMap, tokenMapInverse, tokenFreq"
   ]
  },
  {
   "cell_type": "code",
   "execution_count": 35,
   "metadata": {},
   "outputs": [
    {
     "name": "stderr",
     "output_type": "stream",
     "text": [
      "  0%|          | 0/11531 [00:00<?, ?it/s]"
     ]
    },
    {
     "name": "stderr",
     "output_type": "stream",
     "text": [
      "100%|██████████| 11531/11531 [00:01<00:00, 6378.71it/s]"
     ]
    },
    {
     "name": "stdout",
     "output_type": "stream",
     "text": [
      "Total number of words: 9755261\n",
      "Number of unique words: 68953\n",
      "Most common words: [('company', 52851), ('year', 52258), ('market', 51242), ('s', 47014), ('report', 44278)]\n",
      "Least common words: [('lowercase', 1), ('mistimed', 1), ('ubiquitousness', 1), ('shaheen', 1)]\n"
     ]
    },
    {
     "name": "stderr",
     "output_type": "stream",
     "text": [
      "\n"
     ]
    }
   ],
   "source": [
    "tokenMap, tokenMapInverse, tokenFreq = vocabBOW(df, vocab_size=1000, verbose=True)"
   ]
  },
  {
   "cell_type": "markdown",
   "metadata": {},
   "source": [
    "When looking at the least frequent words, we see words such as 'algun', 'arroz', and 'usados'. It therefore seems that some documents are in Spanish. In the future, these documents should be removed from the dataset because the model will not be able to learn from them (too small amount to have a multi-language vocabulary) and they will only add noise to the dataset."
   ]
  },
  {
   "cell_type": "code",
   "execution_count": 7,
   "metadata": {},
   "outputs": [
    {
     "data": {
      "text/plain": [
       "[('millennials', 1),\n",
       " ('déficit', 1),\n",
       " ('informações', 1),\n",
       " ('nutricional', 1),\n",
       " ('algun', 1),\n",
       " ('fios', 1),\n",
       " ('arroz', 1),\n",
       " ('juntas', 1),\n",
       " ('falar', 1),\n",
       " ('usados', 1)]"
      ]
     },
     "execution_count": 7,
     "metadata": {},
     "output_type": "execute_result"
    }
   ],
   "source": [
    "tokenFreq.most_common(len(tokenFreq))[-100:][:10]"
   ]
  },
  {
   "cell_type": "code",
   "execution_count": 8,
   "metadata": {},
   "outputs": [
    {
     "name": "stderr",
     "output_type": "stream",
     "text": [
      "  0%|          | 0/11531 [00:00<?, ?it/s]"
     ]
    },
    {
     "name": "stderr",
     "output_type": "stream",
     "text": [
      "100%|██████████| 11531/11531 [00:07<00:00, 1577.44it/s]\n"
     ]
    }
   ],
   "source": [
    "def embedBOW(example, vocab_size=1000, tokenMap=tokenMap):\n",
    "    \"\"\"Embeds a document as a Bag of Words vector\n",
    "\n",
    "    Parameters\n",
    "    ----------\n",
    "    example : list\n",
    "        List of tokens\n",
    "    vocab_size : int, optional\n",
    "        Size of the vocabulary, by default 1000\n",
    "    tokenMap : dict, optional\n",
    "        Word to integer mapping, by default tokenMap\n",
    "    \n",
    "    Returns\n",
    "    -------\n",
    "    embedding : np.array\n",
    "        Bag of Words vector\n",
    "    \"\"\"\n",
    "    embedding = np.zeros(vocab_size)\n",
    "    for token in example:\n",
    "        try:\n",
    "            tokenIndex = tokenMap[token] # get index of token in vocabulary\n",
    "        except KeyError: # Out of vocabulary\n",
    "            tokenIndex = 0\n",
    "        embedding[tokenIndex] = embedding[tokenIndex] + 1 # increment count of token\n",
    "    return embedding\n",
    "\n",
    "df[\"embeddedBOW\"] = df['tokens'].progress_apply(embedBOW)\n"
   ]
  },
  {
   "cell_type": "code",
   "execution_count": 54,
   "metadata": {},
   "outputs": [],
   "source": [
    "def data_prep(df, embed_col=\"embeddedBOW\", verbose=False):\n",
    "    \"\"\"Prepares data for BOW models\n",
    "\n",
    "    Parameters\n",
    "    ----------\n",
    "    df : DataFrame\n",
    "        Corpus of documents\n",
    "    embed_col : str, optional\n",
    "        Name of the column containing the embeddings, by default \"embeddedBOW\"\n",
    "    verbose : bool, optional\n",
    "        Display the details, by default False\n",
    "\n",
    "    Returns\n",
    "    -------\n",
    "    X : DataFrame\n",
    "        Set of predictors\n",
    "    y : Series\n",
    "        Target variable\n",
    "    \"\"\"\n",
    "    if verbose:\n",
    "        print(\">>> Preparing data for BOW model\")\n",
    "    X = pd.DataFrame(np.stack(df[embed_col]))\n",
    "    y = df[\"action_category\"]\n",
    "    X.columns = [tokenMapInverse[i] for i in X.columns]\n",
    "    if verbose:\n",
    "        print(f\"X shape: {X.shape}\")\n",
    "        print(f\"y shape: {y.shape}\")\n",
    "    return X, y\n",
    "\n",
    "# X, y = data_prep(df, embed=False, verbose=True) # Test successful"
   ]
  },
  {
   "cell_type": "markdown",
   "metadata": {},
   "source": [
    "### 2.2. Keeping the logs\n",
    "\n",
    "We start by making sure that we can keep track of all our experiments. We will create a function that will save the results of our experiments in an excel file."
   ]
  },
  {
   "cell_type": "code",
   "execution_count": 9,
   "metadata": {},
   "outputs": [],
   "source": [
    "import datetime\n",
    "# logs = pd.DataFrame(columns=[\"name\", \"accuracy\", \"precision\", \"recall\", \"f1 score\", \"time\"])\n",
    "# logs.to_excel(\"DATA/logs.xlsx\", index=False)\n",
    "\n",
    "def log_experiment(stats, name=None, filename=\"DATA/logs.xlsx\", verbose=False):\n",
    "    \"\"\"Log experiment results in an Excel file.\n",
    "\n",
    "    Parameters\n",
    "    ----------\n",
    "    name : str\n",
    "        Name of the experiment.\n",
    "    stats : dict\n",
    "        Dictionary of statistics to log.\n",
    "    filename : str, optional\n",
    "        Name of the Excel file, by default \"DATA/logs.xlsx\".\n",
    "    \"\"\"\n",
    "    if verbose:\n",
    "        print(\">>> Logging experiment...\")\n",
    "    stats = stats.loc[:,[\"accuracy\", \"precision\", \"recall\", \"f1 score\"]]\n",
    "    if name is None:\n",
    "        stats[\"name\"] = input(\"Name of the experiment: \")\n",
    "    else:\n",
    "        stats[\"name\"] = name\n",
    "    stats[\"time\"] = datetime.datetime.now().strftime(\"%Y-%m-%d %H:%M\")\n",
    "    stats = stats[[\"name\", \"accuracy\", \"precision\", \"recall\", \"f1 score\", \"time\"]]\n",
    "    logs = pd.read_excel(filename)\n",
    "    logs = pd.concat([logs,stats])\n",
    "    logs.sort_values(by=\"f1 score\", ascending=False, inplace=True)\n",
    "    logs.to_excel(filename, index=False)\n",
    "    if verbose:\n",
    "        print(\">>> Experiment logged.\")\n",
    "\n",
    "# stats = pd.DataFrame(columns=[\"accuracy\", \"precision\", \"recall\", \"f1 score\"])\n",
    "# stats.loc[len(stats)] = [0.5, 0.5, 0.5, 0.5]\n",
    "# stats\n",
    "# log_experiment(stats) # Test successful"
   ]
  },
  {
   "cell_type": "markdown",
   "metadata": {},
   "source": [
    "### 2.3. Model evaluation\n",
    "\n",
    "We set up a function to cross-validate our models and retrieve the results. We will use the following metrics:\n",
    "- `accuracy`: the proportion of correct predictions\n",
    "- `precision`: the proportion of correct positive predictions (TP / (TP + FP))\n",
    "- `recall`: the proportion of actual positives that were correctly identified (TP / (TP + FN))\n",
    "- `f1-score`: the harmonic mean of precision and recall which gives us a global view of the model's performance\n",
    "\n",
    "We namely chose to use the `f1-score` to rank all our runs because it gives us a good balance between precision and recall."
   ]
  },
  {
   "cell_type": "code",
   "execution_count": 11,
   "metadata": {},
   "outputs": [],
   "source": [
    "from sklearn.metrics import accuracy_score, precision_score, recall_score, f1_score\n",
    "from sklearn.model_selection import StratifiedKFold, cross_validate\n",
    "from sklearn.metrics import make_scorer\n",
    "\n",
    "def model_evaluation(model, X, y, cv=3, verbose=False, random_state=42):\n",
    "    \"\"\"Evaluate a model using stratified cross-validation\n",
    "\n",
    "    Parameters\n",
    "    ----------\n",
    "    model : classifier object\n",
    "        Model to evaluate\n",
    "    X : DataFrame\n",
    "        Set of predictors\n",
    "    y : Series\n",
    "        Target variable\n",
    "    cv : int, optional\n",
    "        Number of folds, by default 3\n",
    "    verbose : bool, optional\n",
    "        Display details, by default False\n",
    "    random_state : int, optional\n",
    "        Seed to fix, by default 42\n",
    "\n",
    "    Returns\n",
    "    -------\n",
    "    stats : DataFrame\n",
    "        Results of the evaluation\n",
    "    \"\"\"\n",
    "    if verbose:\n",
    "        print(\">>> Model evaluation:\")\n",
    "    skf = StratifiedKFold(n_splits=cv, shuffle=True, random_state=random_state) # 3-fold cross-validation\n",
    "    precision_scoring = make_scorer(precision_score, average='macro')\n",
    "    recall_scoring = make_scorer(recall_score, average='macro')\n",
    "    f1_scorer = make_scorer(f1_score, average='macro')\n",
    "    scores = cross_validate(\n",
    "        model, X, y, cv=skf, scoring={\n",
    "            'accuracy': 'accuracy',\n",
    "            'precision': precision_scoring,\n",
    "            'recall': recall_scoring,\n",
    "            'f1 score': f1_scorer,\n",
    "        })\n",
    "    return_dict = {}\n",
    "    for score, value in scores.items():\n",
    "        if score != 'fit_time' and score != 'score_time':\n",
    "            if verbose:\n",
    "                print(f\"{score}: {value.mean():.2%} +/- {value.std():.4%}\")\n",
    "            return_dict[score.split('_')[1]] = value.mean()\n",
    "    stats = pd.DataFrame(return_dict, index=[0])\n",
    "    return stats\n",
    "\n",
    "# from sklearn.linear_model import LogisticRegression\n",
    "\n",
    "# model = LogisticRegression(random_state=42)\n",
    "# X, y = data_prep_bow(df, embed=False, verbose=True)\n",
    "# stats = model_evaluation(model, X, y, cv=3, verbose=True)\n",
    "# stats"
   ]
  },
  {
   "cell_type": "markdown",
   "metadata": {},
   "source": [
    "## 3. Full pipeline\n",
    "\n",
    "Now that we have all the components of our pipeline, we can create the backbone of our experiment. We will reuse the same pipeline to evaluate the three embeddings (BoW, TF-IDF, Word2Vec) and the three classifiers (Logistic Regression, Decision Tree, Random Forest) combinations. We also create a helper function to initialise the different models so that we can easily reuse them."
   ]
  },
  {
   "cell_type": "code",
   "execution_count": 55,
   "metadata": {},
   "outputs": [],
   "source": [
    "# Classification Models\n",
    "from sklearn.linear_model import LogisticRegression\n",
    "from sklearn.tree import DecisionTreeClassifier\n",
    "from sklearn.ensemble import RandomForestClassifier\n",
    "\n",
    "from sklearn.pipeline import make_pipeline\n",
    "from sklearn.preprocessing import StandardScaler\n",
    "\n",
    "seed=123\n",
    "def get_initial_models(random_state=123):\n",
    "    \"\"\"Helper function to create the initial models for the project.\n",
    "\n",
    "    Parameters\n",
    "    ----------\n",
    "    random_state : int, optional\n",
    "        Seed for reproductibility, by default 123\n",
    "\n",
    "    Returns\n",
    "    -------\n",
    "    dict\n",
    "        Dictionary of initial models\n",
    "    \"\"\"\n",
    "    return {\n",
    "        \"Logistic Regression\": make_pipeline(StandardScaler(), LogisticRegression(random_state=seed, max_iter=1000)), # Baseline model\n",
    "        \"Decision Tree\": DecisionTreeClassifier(random_state=seed), # Add non-linearity with decision tree\n",
    "        \"Random Forest\": RandomForestClassifier(random_state=seed), # Make the decision tree more robust with random forest (ensemble of decision trees)\n",
    "    }\n",
    "\n",
    "def pipeline_classification(df, model, name=None, embed_col=\"embeddedBOW\", verbose=True):\n",
    "    \"\"\"Pipeline to train and evaluate a classification model\n",
    "\n",
    "    Parameters\n",
    "    ----------\n",
    "    df : DataFrame\n",
    "        Corpus of documents\n",
    "    model : classifier object\n",
    "        Model to train and evaluate\n",
    "    name : str, optional\n",
    "        Name of the experiment for the logs, by default None\n",
    "    embed_col : str, optional\n",
    "        Name of the column with the name embeddings, by default \"embeddedBOW\"\n",
    "    verbose : bool, optional\n",
    "        Display details, by default True\n",
    "    \"\"\"\n",
    "    X,y = data_prep(df, embed_col=embed_col, verbose=verbose)\n",
    "    stats = model_evaluation(model, X, y, cv=3, verbose=verbose)\n",
    "    log_experiment(stats, name=name, verbose=verbose)"
   ]
  },
  {
   "cell_type": "markdown",
   "metadata": {},
   "source": [
    "### 3.1. Bag of Words models evaluation"
   ]
  },
  {
   "cell_type": "code",
   "execution_count": 56,
   "metadata": {},
   "outputs": [
    {
     "name": "stdout",
     "output_type": "stream",
     "text": [
      "START Training Logistic Regression...\n",
      ">>> Preparing data for BOW model\n",
      "X shape: (11531, 1000)\n",
      "y shape: (11531,)\n",
      ">>> Model evaluation:\n",
      "test_accuracy: 70.25% +/- 0.1423%\n",
      "test_precision: 67.14% +/- 0.3787%\n",
      "test_recall: 67.15% +/- 0.3030%\n",
      "test_f1 score: 67.08% +/- 0.3433%\n",
      ">>> Logging experiment...\n",
      ">>> Experiment logged.\n",
      "DONE Logistic Regression trained.\n",
      "START Training Decision Tree...\n",
      ">>> Preparing data for BOW model\n",
      "X shape: (11531, 1000)\n",
      "y shape: (11531,)\n",
      ">>> Model evaluation:\n"
     ]
    },
    {
     "name": "stderr",
     "output_type": "stream",
     "text": [
      "C:\\Users\\User\\AppData\\Local\\Temp\\ipykernel_17672\\3853218247.py:27: FutureWarning: The behavior of DataFrame concatenation with empty or all-NA entries is deprecated. In a future version, this will no longer exclude empty or all-NA columns when determining the result dtypes. To retain the old behavior, exclude the relevant entries before the concat operation.\n",
      "  logs = pd.concat([logs,stats])\n"
     ]
    },
    {
     "name": "stdout",
     "output_type": "stream",
     "text": [
      "test_accuracy: 59.20% +/- 0.3817%\n",
      "test_precision: 55.58% +/- 0.4398%\n",
      "test_recall: 55.32% +/- 0.1744%\n",
      "test_f1 score: 55.42% +/- 0.2707%\n",
      ">>> Logging experiment...\n",
      ">>> Experiment logged.\n",
      "DONE Decision Tree trained.\n",
      "START Training Random Forest...\n",
      ">>> Preparing data for BOW model\n",
      "X shape: (11531, 1000)\n",
      "y shape: (11531,)\n",
      ">>> Model evaluation:\n",
      "test_accuracy: 71.79% +/- 0.3885%\n",
      "test_precision: 70.95% +/- 0.1608%\n",
      "test_recall: 65.64% +/- 0.6456%\n",
      "test_f1 score: 67.31% +/- 0.5619%\n",
      ">>> Logging experiment...\n",
      ">>> Experiment logged.\n",
      "DONE Random Forest trained.\n"
     ]
    },
    {
     "data": {
      "text/html": [
       "<div>\n",
       "<style scoped>\n",
       "    .dataframe tbody tr th:only-of-type {\n",
       "        vertical-align: middle;\n",
       "    }\n",
       "\n",
       "    .dataframe tbody tr th {\n",
       "        vertical-align: top;\n",
       "    }\n",
       "\n",
       "    .dataframe thead th {\n",
       "        text-align: right;\n",
       "    }\n",
       "</style>\n",
       "<table border=\"1\" class=\"dataframe\">\n",
       "  <thead>\n",
       "    <tr style=\"text-align: right;\">\n",
       "      <th></th>\n",
       "      <th>name</th>\n",
       "      <th>accuracy</th>\n",
       "      <th>precision</th>\n",
       "      <th>recall</th>\n",
       "      <th>f1 score</th>\n",
       "      <th>time</th>\n",
       "    </tr>\n",
       "  </thead>\n",
       "  <tbody>\n",
       "    <tr>\n",
       "      <th>0</th>\n",
       "      <td>BOW Random Forest</td>\n",
       "      <td>0.717891</td>\n",
       "      <td>0.709523</td>\n",
       "      <td>0.656441</td>\n",
       "      <td>0.673146</td>\n",
       "      <td>2024-01-18 13:12</td>\n",
       "    </tr>\n",
       "    <tr>\n",
       "      <th>1</th>\n",
       "      <td>BOW Logistic Regression</td>\n",
       "      <td>0.702541</td>\n",
       "      <td>0.671361</td>\n",
       "      <td>0.671515</td>\n",
       "      <td>0.670760</td>\n",
       "      <td>2024-01-18 13:11</td>\n",
       "    </tr>\n",
       "    <tr>\n",
       "      <th>2</th>\n",
       "      <td>BOW Decision Tree</td>\n",
       "      <td>0.591969</td>\n",
       "      <td>0.555765</td>\n",
       "      <td>0.553179</td>\n",
       "      <td>0.554248</td>\n",
       "      <td>2024-01-18 13:11</td>\n",
       "    </tr>\n",
       "  </tbody>\n",
       "</table>\n",
       "</div>"
      ],
      "text/plain": [
       "                      name  accuracy  precision    recall  f1 score  \\\n",
       "0        BOW Random Forest  0.717891   0.709523  0.656441  0.673146   \n",
       "1  BOW Logistic Regression  0.702541   0.671361  0.671515  0.670760   \n",
       "2        BOW Decision Tree  0.591969   0.555765  0.553179  0.554248   \n",
       "\n",
       "               time  \n",
       "0  2024-01-18 13:12  \n",
       "1  2024-01-18 13:11  \n",
       "2  2024-01-18 13:11  "
      ]
     },
     "execution_count": 56,
     "metadata": {},
     "output_type": "execute_result"
    }
   ],
   "source": [
    "models = get_initial_models()\n",
    "for name, model in models.items():\n",
    "    print(f\"START Training {name}...\")\n",
    "    pipeline_classification(df, model, name=\"BOW \"+name, verbose=True)\n",
    "    print(f\"DONE {name} trained.\")\n",
    "\n",
    "pd.read_excel(\"DATA/logs.xlsx\")"
   ]
  },
  {
   "cell_type": "markdown",
   "metadata": {},
   "source": [
    "## 4. TF-IDF embedding\n",
    "\n",
    "The BOW approach already gave us good results. However, we now want to see if we could do better by giving different weights to the words in the vocabulary. To do so, we will use the TF-IDF embedding which gives more weight to the words that occur in less documents."
   ]
  },
  {
   "cell_type": "code",
   "execution_count": 57,
   "metadata": {},
   "outputs": [
    {
     "name": "stderr",
     "output_type": "stream",
     "text": [
      "100%|██████████| 11531/11531 [00:02<00:00, 5247.04it/s]"
     ]
    },
    {
     "name": "stdout",
     "output_type": "stream",
     "text": [
      "Number of unique words: 68953\n",
      "Words that appear in most documents: [('new', 7681), ('company', 7660), ('year', 7612), ('s', 7039), ('include', 6598)]\n",
      "Least common words: [('naysaye', 1), ('overbuild', 1), ('lowercase', 1), ('300x', 1)]\n"
     ]
    },
    {
     "name": "stderr",
     "output_type": "stream",
     "text": [
      "\n"
     ]
    }
   ],
   "source": [
    "def vocabTFIDF(df, vocab_size=1000, verbose=False):\n",
    "    \"\"\"Creates a vocabulary of the words that appear in the most documents and maps each word to an integer\n",
    "\n",
    "    Parameters\n",
    "    ----------\n",
    "    df : DataFrame\n",
    "        Corpus of documents\n",
    "    vocab_size : int, optional\n",
    "        Size of the vocabulary to create, by default 1000\n",
    "    verbose : bool, optional\n",
    "        Display details, by default False\n",
    "\n",
    "    Returns\n",
    "    -------\n",
    "    tokenMap : dict\n",
    "        Word to integer mapping\n",
    "    tokenMapInverse : dict\n",
    "        Integer to word mapping\n",
    "    Doc_Tok_freq : Counter\n",
    "        Number of documents in which each token appears\n",
    "    \"\"\"\n",
    "    Doc_Tok_freq = Counter()\n",
    "    tfidf_update = lambda x: Doc_Tok_freq.update(set(x))\n",
    "    df['tokens'].progress_apply(tfidf_update) # Count number of documents in which each token appears\n",
    "\n",
    "    if verbose:\n",
    "        print(f\"Number of unique words: {len(Doc_Tok_freq)}\")\n",
    "        print(f\"Words that appear in most documents: {Doc_Tok_freq.most_common(5)}\")\n",
    "        print(f\"Least common words: {Doc_Tok_freq.most_common()[:-5:-1]}\")\n",
    "    \n",
    "    tokenMap = {k: i for i, (k, _) in enumerate(Doc_Tok_freq.most_common(vocab_size))} # We don't use the <oov> token here because we won't use it in the embedding\n",
    "    tokenMapInverse = {v: k for k,v in tokenMap.items()}\n",
    "    return tokenMap, tokenMapInverse, Doc_Tok_freq\n",
    "\n",
    "tokenMapTFIDF, tokenMapInverseTFIDF, Doc_Tok_freq = vocabTFIDF(df, vocab_size=1000, verbose=True)"
   ]
  },
  {
   "cell_type": "code",
   "execution_count": 58,
   "metadata": {},
   "outputs": [
    {
     "name": "stderr",
     "output_type": "stream",
     "text": [
      "  0%|          | 0/11531 [00:00<?, ?it/s]"
     ]
    },
    {
     "name": "stderr",
     "output_type": "stream",
     "text": [
      "100%|██████████| 11531/11531 [00:08<00:00, 1335.13it/s]\n"
     ]
    }
   ],
   "source": [
    "def embedTFIDF(example, vocab_size=1000, tokenMap=tokenMapTFIDF, tokenMapInverse=tokenMapInverseTFIDF, Doc_Tok_freq=Doc_Tok_freq, df=df):\n",
    "    \"\"\"Embeds a document as a TF-IDF vector\n",
    "\n",
    "    Parameters\n",
    "    ----------\n",
    "    example : list\n",
    "        List of tokens\n",
    "    vocab_size : int, optional\n",
    "        Size of the vocabulary, by default 1000\n",
    "    tokenMap : dict, optional\n",
    "        Word to integer mapping, by default tokenMapTFIDF\n",
    "    tokenMapInverse : dict, optional\n",
    "        Integer to word mapping, by default tokenMapInverseTFIDF\n",
    "    Doc_Tok_freq : dict, optional\n",
    "        Word to number of documents mapping, by default Doc_Tok_freq\n",
    "    df : DataFrame, optional\n",
    "        Corpus of documents, by default df\n",
    "\n",
    "    Returns\n",
    "    -------\n",
    "    embedding : np.array\n",
    "        TF-IDF vector\n",
    "    \"\"\"\n",
    "    embedding = np.zeros(vocab_size)\n",
    "    term_freq = Counter(example)\n",
    "    for token in term_freq.keys():\n",
    "        try:\n",
    "            tokenIndex = tokenMap[token] # get index of token in vocabulary\n",
    "        except KeyError: # Out of vocabulary\n",
    "            tokenIndex = 0\n",
    "        if tokenIndex != 0: # If the token is oov, we don't include it in the embedding because we would divide by 0\n",
    "            idf = np.log(df.shape[0]/Doc_Tok_freq[tokenMapInverse[tokenIndex]])\n",
    "            embedding[tokenIndex] = term_freq[token]*idf\n",
    "    return embedding\n",
    "\n",
    "df[\"embeddedTFIDF\"] = df['tokens'].progress_apply(embedTFIDF)"
   ]
  },
  {
   "cell_type": "markdown",
   "metadata": {},
   "source": [
    "### 4.1. Model evaluation with TF-IDF"
   ]
  },
  {
   "cell_type": "code",
   "execution_count": 59,
   "metadata": {},
   "outputs": [
    {
     "name": "stdout",
     "output_type": "stream",
     "text": [
      "START Training Logistic Regression...\n",
      ">>> Preparing data for BOW model\n",
      "X shape: (11531, 1000)\n",
      "y shape: (11531,)\n",
      ">>> Model evaluation:\n",
      "test_accuracy: 69.32% +/- 0.3368%\n",
      "test_precision: 66.01% +/- 0.3459%\n",
      "test_recall: 66.20% +/- 0.2699%\n",
      "test_f1 score: 66.06% +/- 0.2858%\n",
      ">>> Logging experiment...\n",
      ">>> Experiment logged.\n",
      "DONE Logistic Regression trained.\n",
      "START Training Decision Tree...\n",
      ">>> Preparing data for BOW model\n",
      "X shape: (11531, 1000)\n",
      "y shape: (11531,)\n",
      ">>> Model evaluation:\n",
      "test_accuracy: 56.66% +/- 0.7769%\n",
      "test_precision: 52.46% +/- 0.9609%\n",
      "test_recall: 52.73% +/- 1.0424%\n",
      "test_f1 score: 52.58% +/- 0.9972%\n",
      ">>> Logging experiment...\n",
      ">>> Experiment logged.\n",
      "DONE Decision Tree trained.\n",
      "START Training Random Forest...\n",
      ">>> Preparing data for BOW model\n",
      "X shape: (11531, 1000)\n",
      "y shape: (11531,)\n",
      ">>> Model evaluation:\n",
      "test_accuracy: 71.49% +/- 0.2378%\n",
      "test_precision: 70.43% +/- 0.4047%\n",
      "test_recall: 65.14% +/- 0.3693%\n",
      "test_f1 score: 66.78% +/- 0.3038%\n",
      ">>> Logging experiment...\n",
      ">>> Experiment logged.\n",
      "DONE Random Forest trained.\n"
     ]
    },
    {
     "data": {
      "text/html": [
       "<div>\n",
       "<style scoped>\n",
       "    .dataframe tbody tr th:only-of-type {\n",
       "        vertical-align: middle;\n",
       "    }\n",
       "\n",
       "    .dataframe tbody tr th {\n",
       "        vertical-align: top;\n",
       "    }\n",
       "\n",
       "    .dataframe thead th {\n",
       "        text-align: right;\n",
       "    }\n",
       "</style>\n",
       "<table border=\"1\" class=\"dataframe\">\n",
       "  <thead>\n",
       "    <tr style=\"text-align: right;\">\n",
       "      <th></th>\n",
       "      <th>name</th>\n",
       "      <th>accuracy</th>\n",
       "      <th>precision</th>\n",
       "      <th>recall</th>\n",
       "      <th>f1 score</th>\n",
       "      <th>time</th>\n",
       "    </tr>\n",
       "  </thead>\n",
       "  <tbody>\n",
       "    <tr>\n",
       "      <th>0</th>\n",
       "      <td>BOW Random Forest</td>\n",
       "      <td>0.717891</td>\n",
       "      <td>0.709523</td>\n",
       "      <td>0.656441</td>\n",
       "      <td>0.673146</td>\n",
       "      <td>2024-01-18 13:12</td>\n",
       "    </tr>\n",
       "    <tr>\n",
       "      <th>1</th>\n",
       "      <td>BOW Logistic Regression</td>\n",
       "      <td>0.702541</td>\n",
       "      <td>0.671361</td>\n",
       "      <td>0.671515</td>\n",
       "      <td>0.670760</td>\n",
       "      <td>2024-01-18 13:11</td>\n",
       "    </tr>\n",
       "    <tr>\n",
       "      <th>2</th>\n",
       "      <td>TFIDF Random Forest</td>\n",
       "      <td>0.714856</td>\n",
       "      <td>0.704337</td>\n",
       "      <td>0.651406</td>\n",
       "      <td>0.667785</td>\n",
       "      <td>2024-01-18 13:14</td>\n",
       "    </tr>\n",
       "    <tr>\n",
       "      <th>3</th>\n",
       "      <td>TFIDF Logistic Regression</td>\n",
       "      <td>0.693175</td>\n",
       "      <td>0.660128</td>\n",
       "      <td>0.662045</td>\n",
       "      <td>0.660568</td>\n",
       "      <td>2024-01-18 13:14</td>\n",
       "    </tr>\n",
       "    <tr>\n",
       "      <th>4</th>\n",
       "      <td>BOW Decision Tree</td>\n",
       "      <td>0.591969</td>\n",
       "      <td>0.555765</td>\n",
       "      <td>0.553179</td>\n",
       "      <td>0.554248</td>\n",
       "      <td>2024-01-18 13:11</td>\n",
       "    </tr>\n",
       "    <tr>\n",
       "      <th>5</th>\n",
       "      <td>TFIDF Decision Tree</td>\n",
       "      <td>0.566560</td>\n",
       "      <td>0.524608</td>\n",
       "      <td>0.527324</td>\n",
       "      <td>0.525799</td>\n",
       "      <td>2024-01-18 13:14</td>\n",
       "    </tr>\n",
       "  </tbody>\n",
       "</table>\n",
       "</div>"
      ],
      "text/plain": [
       "                        name  accuracy  precision    recall  f1 score  \\\n",
       "0          BOW Random Forest  0.717891   0.709523  0.656441  0.673146   \n",
       "1    BOW Logistic Regression  0.702541   0.671361  0.671515  0.670760   \n",
       "2        TFIDF Random Forest  0.714856   0.704337  0.651406  0.667785   \n",
       "3  TFIDF Logistic Regression  0.693175   0.660128  0.662045  0.660568   \n",
       "4          BOW Decision Tree  0.591969   0.555765  0.553179  0.554248   \n",
       "5        TFIDF Decision Tree  0.566560   0.524608  0.527324  0.525799   \n",
       "\n",
       "               time  \n",
       "0  2024-01-18 13:12  \n",
       "1  2024-01-18 13:11  \n",
       "2  2024-01-18 13:14  \n",
       "3  2024-01-18 13:14  \n",
       "4  2024-01-18 13:11  \n",
       "5  2024-01-18 13:14  "
      ]
     },
     "execution_count": 59,
     "metadata": {},
     "output_type": "execute_result"
    }
   ],
   "source": [
    "models = get_initial_models()\n",
    "for name, model in models.items():\n",
    "    print(f\"START Training {name}...\")\n",
    "    pipeline_classification(df, model, name=\"TFIDF \"+name, embed_col=\"embeddedTFIDF\", verbose=True)\n",
    "    print(f\"DONE {name} trained.\")\n",
    "\n",
    "pd.read_excel(\"DATA/logs.xlsx\")"
   ]
  },
  {
   "cell_type": "markdown",
   "metadata": {},
   "source": [
    "## 5. Word2Vec embedding\n",
    "\n",
    "The TF-IDF embedding did not improve the performance of the models. This might be because a vocabulary of 1000 words is too small and thus the \"rare\" words are simply excluded. However, the dataset is small and we can't afford to make the model more complex by increasing the vocabulary size. Instead, we will try to use a pre-trained embedding model to represent all the tokens and not only the 1000 most frequent ones. We already created the embedding model in the previous notebook, so we will simply use it here."
   ]
  },
  {
   "cell_type": "code",
   "execution_count": 61,
   "metadata": {},
   "outputs": [
    {
     "name": "stdout",
     "output_type": "stream",
     "text": [
      "START Training Logistic Regression...\n",
      ">>> Preparing data for BOW model\n",
      "X shape: (11531, 384)\n",
      "y shape: (11531,)\n",
      ">>> Model evaluation:\n",
      "test_accuracy: 70.18% +/- 0.3775%\n",
      "test_precision: 67.50% +/- 0.4587%\n",
      "test_recall: 66.52% +/- 0.5483%\n",
      "test_f1 score: 66.95% +/- 0.5137%\n",
      ">>> Logging experiment...\n",
      ">>> Experiment logged.\n",
      "DONE Logistic Regression trained.\n",
      "START Training Decision Tree...\n",
      ">>> Preparing data for BOW model\n",
      "X shape: (11531, 384)\n",
      "y shape: (11531,)\n",
      ">>> Model evaluation:\n",
      "test_accuracy: 54.28% +/- 0.5984%\n",
      "test_precision: 50.84% +/- 0.6327%\n",
      "test_recall: 50.98% +/- 0.6355%\n",
      "test_f1 score: 50.90% +/- 0.6271%\n",
      ">>> Logging experiment...\n",
      ">>> Experiment logged.\n",
      "DONE Decision Tree trained.\n",
      "START Training Random Forest...\n",
      ">>> Preparing data for BOW model\n",
      "X shape: (11531, 384)\n",
      "y shape: (11531,)\n",
      ">>> Model evaluation:\n",
      "test_accuracy: 68.52% +/- 0.4174%\n",
      "test_precision: 68.08% +/- 0.5900%\n",
      "test_recall: 61.64% +/- 0.5821%\n",
      "test_f1 score: 63.39% +/- 0.6258%\n",
      ">>> Logging experiment...\n",
      ">>> Experiment logged.\n",
      "DONE Random Forest trained.\n"
     ]
    },
    {
     "data": {
      "text/html": [
       "<div>\n",
       "<style scoped>\n",
       "    .dataframe tbody tr th:only-of-type {\n",
       "        vertical-align: middle;\n",
       "    }\n",
       "\n",
       "    .dataframe tbody tr th {\n",
       "        vertical-align: top;\n",
       "    }\n",
       "\n",
       "    .dataframe thead th {\n",
       "        text-align: right;\n",
       "    }\n",
       "</style>\n",
       "<table border=\"1\" class=\"dataframe\">\n",
       "  <thead>\n",
       "    <tr style=\"text-align: right;\">\n",
       "      <th></th>\n",
       "      <th>name</th>\n",
       "      <th>accuracy</th>\n",
       "      <th>precision</th>\n",
       "      <th>recall</th>\n",
       "      <th>f1 score</th>\n",
       "      <th>time</th>\n",
       "    </tr>\n",
       "  </thead>\n",
       "  <tbody>\n",
       "    <tr>\n",
       "      <th>0</th>\n",
       "      <td>BOW Random Forest</td>\n",
       "      <td>0.717891</td>\n",
       "      <td>0.709523</td>\n",
       "      <td>0.656441</td>\n",
       "      <td>0.673146</td>\n",
       "      <td>2024-01-18 13:12</td>\n",
       "    </tr>\n",
       "    <tr>\n",
       "      <th>1</th>\n",
       "      <td>BOW Logistic Regression</td>\n",
       "      <td>0.702541</td>\n",
       "      <td>0.671361</td>\n",
       "      <td>0.671515</td>\n",
       "      <td>0.670760</td>\n",
       "      <td>2024-01-18 13:11</td>\n",
       "    </tr>\n",
       "    <tr>\n",
       "      <th>2</th>\n",
       "      <td>W2V Logistic Regression</td>\n",
       "      <td>0.701761</td>\n",
       "      <td>0.674994</td>\n",
       "      <td>0.665155</td>\n",
       "      <td>0.669512</td>\n",
       "      <td>2024-01-18 13:38</td>\n",
       "    </tr>\n",
       "    <tr>\n",
       "      <th>3</th>\n",
       "      <td>TFIDF Random Forest</td>\n",
       "      <td>0.714856</td>\n",
       "      <td>0.704337</td>\n",
       "      <td>0.651406</td>\n",
       "      <td>0.667785</td>\n",
       "      <td>2024-01-18 13:14</td>\n",
       "    </tr>\n",
       "    <tr>\n",
       "      <th>4</th>\n",
       "      <td>TFIDF Logistic Regression</td>\n",
       "      <td>0.693175</td>\n",
       "      <td>0.660128</td>\n",
       "      <td>0.662045</td>\n",
       "      <td>0.660568</td>\n",
       "      <td>2024-01-18 13:14</td>\n",
       "    </tr>\n",
       "    <tr>\n",
       "      <th>5</th>\n",
       "      <td>W2V Random Forest</td>\n",
       "      <td>0.685196</td>\n",
       "      <td>0.680839</td>\n",
       "      <td>0.616406</td>\n",
       "      <td>0.633931</td>\n",
       "      <td>2024-01-18 13:41</td>\n",
       "    </tr>\n",
       "    <tr>\n",
       "      <th>6</th>\n",
       "      <td>BOW Decision Tree</td>\n",
       "      <td>0.591969</td>\n",
       "      <td>0.555765</td>\n",
       "      <td>0.553179</td>\n",
       "      <td>0.554248</td>\n",
       "      <td>2024-01-18 13:11</td>\n",
       "    </tr>\n",
       "    <tr>\n",
       "      <th>7</th>\n",
       "      <td>TFIDF Decision Tree</td>\n",
       "      <td>0.566560</td>\n",
       "      <td>0.524608</td>\n",
       "      <td>0.527324</td>\n",
       "      <td>0.525799</td>\n",
       "      <td>2024-01-18 13:14</td>\n",
       "    </tr>\n",
       "    <tr>\n",
       "      <th>8</th>\n",
       "      <td>W2V Decision Tree</td>\n",
       "      <td>0.542798</td>\n",
       "      <td>0.508369</td>\n",
       "      <td>0.509840</td>\n",
       "      <td>0.508977</td>\n",
       "      <td>2024-01-18 13:39</td>\n",
       "    </tr>\n",
       "  </tbody>\n",
       "</table>\n",
       "</div>"
      ],
      "text/plain": [
       "                        name  accuracy  precision    recall  f1 score  \\\n",
       "0          BOW Random Forest  0.717891   0.709523  0.656441  0.673146   \n",
       "1    BOW Logistic Regression  0.702541   0.671361  0.671515  0.670760   \n",
       "2    W2V Logistic Regression  0.701761   0.674994  0.665155  0.669512   \n",
       "3        TFIDF Random Forest  0.714856   0.704337  0.651406  0.667785   \n",
       "4  TFIDF Logistic Regression  0.693175   0.660128  0.662045  0.660568   \n",
       "5          W2V Random Forest  0.685196   0.680839  0.616406  0.633931   \n",
       "6          BOW Decision Tree  0.591969   0.555765  0.553179  0.554248   \n",
       "7        TFIDF Decision Tree  0.566560   0.524608  0.527324  0.525799   \n",
       "8          W2V Decision Tree  0.542798   0.508369  0.509840  0.508977   \n",
       "\n",
       "               time  \n",
       "0  2024-01-18 13:12  \n",
       "1  2024-01-18 13:11  \n",
       "2  2024-01-18 13:38  \n",
       "3  2024-01-18 13:14  \n",
       "4  2024-01-18 13:14  \n",
       "5  2024-01-18 13:41  \n",
       "6  2024-01-18 13:11  \n",
       "7  2024-01-18 13:14  \n",
       "8  2024-01-18 13:39  "
      ]
     },
     "execution_count": 61,
     "metadata": {},
     "output_type": "execute_result"
    }
   ],
   "source": [
    "models = get_initial_models()\n",
    "for name, model in models.items():\n",
    "    print(f\"START Training {name}...\")\n",
    "    pipeline_classification(df, model, name=\"W2V \"+name, embed_col=\"embedding\", verbose=True)\n",
    "    print(f\"DONE {name} trained.\")\n",
    "\n",
    "pd.read_excel(\"DATA/logs.xlsx\")"
   ]
  },
  {
   "cell_type": "markdown",
   "metadata": {},
   "source": [
    "## 6. Analysis of the predictions from the best model\n",
    "\n",
    "Based on the results of the previous section, we will now analyze the predictions of the Random Forest model trained on the Bag of Words embedding. We will dive into the confusion matrix and try to understand what lies at the root of the errors."
   ]
  },
  {
   "cell_type": "code",
   "execution_count": 73,
   "metadata": {},
   "outputs": [
    {
     "name": "stdout",
     "output_type": "stream",
     "text": [
      ">>> Preparing data for BOW model\n",
      "X shape: (11531, 1000)\n",
      "y shape: (11531,)\n",
      "              precision    recall  f1-score   support\n",
      "\n",
      "        high       0.71      0.46      0.56       548\n",
      "         low       0.74      0.88      0.81      1439\n",
      "      medium       0.62      0.57      0.59       896\n",
      "\n",
      "    accuracy                           0.70      2883\n",
      "   macro avg       0.69      0.64      0.65      2883\n",
      "weighted avg       0.70      0.70      0.69      2883\n",
      "\n"
     ]
    }
   ],
   "source": [
    "from sklearn.metrics import ConfusionMatrixDisplay, classification_report, confusion_matrix\n",
    "from sklearn.model_selection import train_test_split\n",
    "\n",
    "model = RandomForestClassifier(random_state=123)\n",
    "X,y = data_prep(df, embed_col=\"embeddedBOW\", verbose=True)\n",
    "X_train, X_test, y_train, y_test = train_test_split(X, y, test_size=0.25, random_state=seed)\n",
    "model.fit(X_train, y_train)\n",
    "\n",
    "y_pred = model.predict(X_test)\n",
    "print(classification_report(y_test, y_pred))"
   ]
  },
  {
   "cell_type": "markdown",
   "metadata": {},
   "source": [
    "### 6.1. Confusion matrix"
   ]
  },
  {
   "cell_type": "code",
   "execution_count": 82,
   "metadata": {},
   "outputs": [
    {
     "data": {
      "image/png": "[encoded data removed]",
      "text/plain": [
       "<Figure size 500x500 with 1 Axes>"
      ]
     },
     "metadata": {},
     "output_type": "display_data"
    }
   ],
   "source": [
    "fig, ax = plt.subplots(figsize=(5, 5))\n",
    "cm = confusion_matrix(y_test, y_pred, normalize=\"all\")\n",
    "ConfusionMatrixDisplay(cm, display_labels=model.classes_).plot(\n",
    "    cmap=\"Blues\", values_format='.2%', colorbar=False, include_values=True, ax=ax)\n",
    "ax.set_title(\"Confusion matrix for our best model\"+f\"\\n(accuracy={accuracy_score(y_test, y_pred):.2%}, f1 score={f1_score(y_test, y_pred, average='macro'):.2%})\")\n",
    "plt.show()"
   ]
  },
  {
   "cell_type": "markdown",
   "metadata": {},
   "source": [
    "If the results can be considered satisfactory for a proof of concept, there are some errors that are more important than others. We see that the model is very good at predicting the `low` category but it struggles with the `high` category. This is not surprising as the `high` category is the smallest one and thus the model has less data to learn from. A larger dataset or a more balanced mean action score distribution would probably help the model to learn better.\n",
    "\n",
    "Let's dive further into the more important errors. The biggest issue is for `low` action scores classified as `high`. In fact, this could drive us to invest in the company from an ESG perspective while the company is actually not doing well. Let's look at the documents that are classified as `high` but have a mean action score below 0.1 and see if we can find a pattern."
   ]
  },
  {
   "cell_type": "code",
   "execution_count": 99,
   "metadata": {},
   "outputs": [],
   "source": [
    "pb_indexes = [i for i,val in enumerate(np.logical_and(y_test==\"low\",y_pred==\"high\")) if val]\n",
    "pd_df = df.iloc[X_test.iloc[pb_indexes].index]"
   ]
  },
  {
   "cell_type": "code",
   "execution_count": 106,
   "metadata": {},
   "outputs": [
    {
     "data": {
      "image/png": "[encoded data removed]",
      "text/plain": [
       "<Figure size 640x480 with 1 Axes>"
      ]
     },
     "metadata": {},
     "output_type": "display_data"
    }
   ],
   "source": [
    "pd_df.company.value_counts().sort_values().plot(kind=\"barh\")\n",
    "plt.title(\"Low actions classified as high actions\")\n",
    "plt.box(False)\n",
    "plt.grid(axis='x')\n",
    "plt.savefig(\"DATA/figures/Missclassified.png\")\n",
    "\n",
    "plt.show()"
   ]
  },
  {
   "cell_type": "code",
   "execution_count": 110,
   "metadata": {},
   "outputs": [],
   "source": [
    "pd_df[pd_df[\"company\"]==\"Porsche\"].to_excel(\"Porsche_debug.xlsx\")"
   ]
  },
  {
   "cell_type": "markdown",
   "metadata": {},
   "source": [
    "We see that there are only very few documents that are classified as `high` but have a mean action score below 0.1. `Porsche` stood out as it has 5 of these misclassified documents. After reading the documents, we notice that all of them talk about electric cars. The classifier probably picked up on the word 'electric' and classified the document as `high` because it is a hot topic in the ESG space. The reason why the mean action score might be low is because the documents also talk about the fact that Porsche is not doing well in the electric car space (and had to call a lot of cars back for example). This is typically a grey area where good and systematic annotation of the documents would be needed to be able to classify them better. "
   ]
  },
  {
   "cell_type": "markdown",
   "metadata": {},
   "source": [
    "### 6.2. Errors clustering\n",
    "\n",
    "The final step of our analysis is to look at the similarities between the documents that are misclassified to see if we can find a pattern. We will use the `KMeans` algorithm to cluster the documents based on their embeddings. We will then look at the clusters that contain the most misclassified documents and try to understand what went wrong."
   ]
  },
  {
   "cell_type": "code",
   "execution_count": 123,
   "metadata": {},
   "outputs": [
    {
     "name": "stdout",
     "output_type": "stream",
     "text": [
      ">>> Preparing data for BOW model\n",
      "X shape: (37, 384)\n",
      "y shape: (37,)\n",
      "cluster\n",
      "2    15\n",
      "0    12\n",
      "1    10\n",
      "Name: count, dtype: int64\n",
      "Cluster 0 ------------------\n",
      "company\n",
      "Airbus SE        1\n",
      "BMW              1\n",
      "AkzoNobelNV      1\n",
      "Symrise AG       1\n",
      "Volkswagen AG    1\n",
      "RWE AG           1\n",
      "Bayer AG         1\n",
      "Linde            1\n",
      "Siemens AG       4\n",
      "Name: count, dtype: int64\n",
      "\n",
      "\n",
      "Cluster 1 ------------------\n",
      "company\n",
      "Volkswagen AG    1\n",
      "MTU              1\n",
      "Daimler AG       1\n",
      "Airbus SE        1\n",
      "BMW              2\n",
      "Porsche          4\n",
      "Name: count, dtype: int64\n",
      "\n",
      "\n",
      "Cluster 2 ------------------\n",
      "company\n",
      "Merck KGaA            1\n",
      "Airbus SE             1\n",
      "Porsche               1\n",
      "Covestro AG           1\n",
      "BMW                   1\n",
      "RWE AG                1\n",
      "Siemens Energy        2\n",
      "E ONSE                2\n",
      "Deutsche Boerse AG    2\n",
      "AkzoNobelNV           3\n",
      "Name: count, dtype: int64\n",
      "\n",
      "\n"
     ]
    },
    {
     "name": "stderr",
     "output_type": "stream",
     "text": [
      "c:\\Users\\User\\Documents\\VLERICK\\NLP\\vlerick-mai-nlp-2023\\.env\\Lib\\site-packages\\sklearn\\cluster\\_kmeans.py:1416: FutureWarning: The default value of `n_init` will change from 10 to 'auto' in 1.4. Set the value of `n_init` explicitly to suppress the warning\n",
      "  super()._check_params_vs_input(X, default_n_init=10)\n",
      "C:\\Users\\User\\AppData\\Local\\Temp\\ipykernel_17672\\4192040151.py:6: SettingWithCopyWarning: \n",
      "A value is trying to be set on a copy of a slice from a DataFrame.\n",
      "Try using .loc[row_indexer,col_indexer] = value instead\n",
      "\n",
      "See the caveats in the documentation: https://pandas.pydata.org/pandas-docs/stable/user_guide/indexing.html#returning-a-view-versus-a-copy\n",
      "  pd_df[\"cluster\"] = KMeans_model.labels_\n"
     ]
    }
   ],
   "source": [
    "from sklearn.cluster import KMeans\n",
    "\n",
    "X, y = data_prep(pd_df, embed_col=\"embedding\", verbose=True)\n",
    "KMeans_model = KMeans(n_clusters=3, random_state=seed)\n",
    "KMeans_model.fit(X)\n",
    "pd_df[\"cluster\"] = KMeans_model.labels_\n",
    "\n",
    "print(pd_df[\"cluster\"].value_counts())\n",
    "# Let's look at the companies in each cluster to see if we can find a pattern\n",
    "for i in range(3):\n",
    "    print(f\"Cluster {i} ------------------\")\n",
    "    print(pd_df[pd_df[\"cluster\"]==i].company.value_counts().sort_values()[-10:])\n",
    "    print(\"\\n\")\n",
    "\n",
    "pd_df[pd_df[\"cluster\"]==1].to_excel(\"DATA/Cars_cluster.xlsx\")\n"
   ]
  },
  {
   "cell_type": "markdown",
   "metadata": {},
   "source": [
    "The `Cluster 1` seems to contain mostly car manufacturer company with the exception of Airbus. There could be an ambiguity linked to the engine or consumption. After exporting the missclassified documents, we see that 8 of them talk about electric cars and 2 about hydrogen fuel in aviation. Transitioning towards new energy sources is definitely a positive thing from an ESG perspective and should be encouraged. It therefore seems that these classifications are actually correct and capture inconsistencies in the annotation (cars and aviation are probably just assumed to be bad for the environment in the ESG BERT model used to annotate the text). Similar explorations could be done for the other clusters and for the other (less critical) missclassifications."
   ]
  },
  {
   "cell_type": "markdown",
   "metadata": {},
   "source": [
    "Thank you for reading this notebook. I hope you enjoyed it and that it gave you some insights into the potential of NLP for ESG analysis.\n",
    "\n",
    "---\n",
    "Mathieu Demarets (mathieu.demarets@edu.vlerick.com)"
   ]
  }
 ],
 "metadata": {
  "kernelspec": {
   "display_name": ".env",
   "language": "python",
   "name": "python3"
  },
  "language_info": {
   "codemirror_mode": {
    "name": "ipython",
    "version": 3
   },
   "file_extension": ".py",
   "mimetype": "text/x-python",
   "name": "python",
   "nbconvert_exporter": "python",
   "pygments_lexer": "ipython3",
   "version": "3.11.7"
  }
 },
 "nbformat": 4,
 "nbformat_minor": 2
}
